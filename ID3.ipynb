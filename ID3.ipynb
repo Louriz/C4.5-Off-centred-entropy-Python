{
 "cells": [
  {
   "cell_type": "code",
   "execution_count": 10,
   "metadata": {
    "collapsed": true
   },
   "outputs": [],
   "source": [
    "import math"
   ]
  },
  {
   "cell_type": "code",
   "execution_count": 44,
   "metadata": {
    "collapsed": true
   },
   "outputs": [],
   "source": [
    "table={\n",
    "    \"result\": [\"yes\", \"yes\", \"yes\", \"no\"],\n",
    "    \"arg1\": [\"left\", \"left\", \"right\", \"right\"],\n",
    "    \"arg2\": [\"down\", \"up\", \"down\", \"down\"],\n",
    "    \"arg3\": [\"no\", \"yes\", \"no\", \"yes\"]\n",
    "}"
   ]
  },
  {
   "cell_type": "code",
   "execution_count": 38,
   "metadata": {
    "collapsed": true
   },
   "outputs": [],
   "source": [
    "from collections import OrderedDict\n",
    "\n",
    "\n",
    "def deldup(li):\n",
    "    \"\"\" Deletes duplicates from list _li_\n",
    "        and return new list with unique values.\n",
    "    \"\"\"\n",
    "    return list(OrderedDict.fromkeys(li))\n",
    "\n",
    "\n",
    "def is_mono(t):\n",
    "    \"\"\" Returns True if all values of _t_ are equal\n",
    "        and False otherwise.\n",
    "    \"\"\"\n",
    "    for i in t:\n",
    "        if i != t[0]:\n",
    "            return False\n",
    "    return True\n",
    "\n",
    "\n",
    "def get_indexes(table, col, v):\n",
    "    \"\"\" Returns indexes of values _v_ in column _col_\n",
    "        of _table_.\n",
    "    \"\"\"\n",
    "    li = []\n",
    "    start = 0\n",
    "    for row in table[col]:\n",
    "        if row == v:\n",
    "            index = table[col].index(row, start)\n",
    "            li.append(index)\n",
    "            start = index + 1\n",
    "    return li\n",
    "\n",
    "\n",
    "def get_values(t, col, indexes):\n",
    "    \"\"\" Returns values of _indexes_ in column _col_\n",
    "        of the table _t_.\n",
    "    \"\"\"\n",
    "    return [t[col][i] for i in range(len(t[col])) if i in indexes]\n",
    "\n",
    "\n",
    "def del_values(t, ind):\n",
    "    \"\"\" Creates the new table with values of _ind_.\n",
    "    \"\"\"\n",
    "    return {k: [v[i] for i in range(len(v)) if i in ind] for k, v in t.items()}\n",
    "\n",
    "\n",
    "def print_list_tree(tree, tab=''):\n",
    "    \"\"\" Prints list of nested lists in\n",
    "        hierarchical form.\n",
    "    \"\"\"\n",
    "    print('%s[' % tab)\n",
    "    for node in tree:\n",
    "        if isinstance(node, str):\n",
    "            print('%s  %s' % (tab, node))\n",
    "        else:\n",
    "            print_list_tree(node, tab + '  ')\n",
    "    print('%s]' % tab)\n",
    "\n",
    "\n",
    "def formalize_rules(list_rules):\n",
    "    \"\"\" Gives an list of rules where\n",
    "        facts are separeted by coma.\n",
    "        Returns string with rules in\n",
    "        convinient form (such as\n",
    "        'If' and 'Then' words, etc.).\n",
    "    \"\"\"\n",
    "    text = ''\n",
    "    for r in list_rules:\n",
    "        t = [i for i in r.split(',') if i]\n",
    "        text += 'If %s,\\n' % t[0]\n",
    "        for i in t[1:-1]:\n",
    "            text += '   %s,\\n' % i\n",
    "        text += 'Then: %s.\\n' % t[-1]\n",
    "    return text\n",
    "\n",
    "\n",
    "def get_subtables(t, col):\n",
    "    \"\"\" Returns subtables of the table _t_\n",
    "        divided by values of the column _col_.\n",
    "    \"\"\"\n",
    "    return [del_values(t, get_indexes(t, col, v)) for v in deldup(t[col])]"
   ]
  },
  {
   "cell_type": "code",
   "execution_count": 39,
   "metadata": {
    "collapsed": true
   },
   "outputs": [],
   "source": [
    "def freq(table, col, v):\n",
    "    \"\"\" Returns counts of variant _v_\n",
    "        in column _col_ of table _table_.\n",
    "    \"\"\"\n",
    "    return table[col].count(v)\n",
    "\n",
    "\n",
    "def info(table, res_col):\n",
    "    \"\"\" Calculates the entropy of the table _table_\n",
    "        where res_col column = _res_col_.\n",
    "    \"\"\"\n",
    "    s = 0 # sum\n",
    "    for v in deldup(table[res_col]):\n",
    "        p = freq(table, res_col, v) / float(len(table[res_col]))\n",
    "        s += p * math.log(p, 2)\n",
    "    return -s\n",
    "\n",
    "\n",
    "def infox(table, col, res_col):\n",
    "    \"\"\" Calculates the entropy of the table _table_\n",
    "        after dividing it on the subtables by column _col_.\n",
    "    \"\"\"\n",
    "    s = 0 # sum\n",
    "    for subt in get_subtables(table, col):\n",
    "        s += (float(len(subt[col])) / len(table[col])) * info(subt, res_col)\n",
    "    return s\n",
    "    \n",
    "\n",
    "\n",
    "def gain(table, x, res_col):\n",
    "    \"\"\" The criterion for selecting attributes for splitting.\n",
    "    \"\"\"\n",
    "    return info(table, res_col) - infox(table, x, res_col)"
   ]
  },
  {
   "cell_type": "code",
   "execution_count": 40,
   "metadata": {},
   "outputs": [
    {
     "data": {
      "text/plain": [
       "0.31127812445913283"
      ]
     },
     "execution_count": 40,
     "metadata": {},
     "output_type": "execute_result"
    }
   ],
   "source": [
    "gain(table,'arg1','result')"
   ]
  },
  {
   "cell_type": "code",
   "execution_count": 41,
   "metadata": {
    "collapsed": true
   },
   "outputs": [],
   "source": [
    "def mine_c45(table, result):\n",
    "    \"\"\" An entry point for C45 algorithm.\n",
    "        _table_ - a dict representing data table in the following format:\n",
    "        {\n",
    "            \"<column name>': [<column values>],\n",
    "            \"<column name>': [<column values>],\n",
    "            ...\n",
    "        }\n",
    "        _result_: a string representing a name of column indicating a result.\n",
    "    \"\"\"\n",
    "    col = max([(k, gain(table, k, result)) for k in table.keys() if k != result],\n",
    "              key=lambda x: x[1])[0]\n",
    "    tree = []\n",
    "    for subt in get_subtables(table, col):\n",
    "        v = subt[col][0]\n",
    "        if is_mono(subt[result]):\n",
    "            tree.append(['%s=%s' % (col, v),\n",
    "                         '%s=%s' % (result, subt[result][0])])\n",
    "        else:\n",
    "            del subt[col]\n",
    "            tree.append(['%s=%s' % (col, v)] + mine_c45(subt, result))\n",
    "    return tree\n",
    "\n",
    "def tree_to_rules(tree):\n",
    "    return formalize_rules(__tree_to_rules(tree))\n",
    "\n",
    "\n",
    "def __tree_to_rules(tree, rule=''):\n",
    "    rules = []\n",
    "    for node in tree:\n",
    "        if isinstance(node, str):\n",
    "            rule += node + ','\n",
    "        else:\n",
    "            rules += __tree_to_rules(node, rule)\n",
    "    if rules:\n",
    "        return rules\n",
    "    return [rule]\n",
    "\n",
    "\n",
    "def validate_table(table):\n",
    "    assert isinstance(table, dict)\n",
    "    for k, v in table.items():\n",
    "        assert k\n",
    "        assert isinstance(k, str)\n",
    "        assert len(v) == len(table.values()[0])\n",
    "        for i in v: assert i"
   ]
  },
  {
   "cell_type": "code",
   "execution_count": 42,
   "metadata": {},
   "outputs": [
    {
     "data": {
      "text/plain": [
       "[['arg1=left', 'result=yes'],\n",
       " ['arg1=right', ['arg3=no', 'result=yes'], ['arg3=yes', 'result=no']]]"
      ]
     },
     "execution_count": 42,
     "metadata": {},
     "output_type": "execute_result"
    }
   ],
   "source": [
    "mine_c45(table,'result')"
   ]
  },
  {
   "cell_type": "code",
   "execution_count": 43,
   "metadata": {},
   "outputs": [
    {
     "data": {
      "text/plain": [
       "'If arg1=left,\\nThen: result=yes.\\nIf arg1=right,\\n   arg3=no,\\nThen: result=yes.\\nIf arg1=right,\\n   arg3=yes,\\nThen: result=no.\\n'"
      ]
     },
     "execution_count": 43,
     "metadata": {},
     "output_type": "execute_result"
    }
   ],
   "source": [
    "tree_to_rules(mine_c45(table,'result'))"
   ]
  },
  {
   "cell_type": "code",
   "execution_count": null,
   "metadata": {
    "collapsed": true
   },
   "outputs": [],
   "source": []
  },
  {
   "cell_type": "code",
   "execution_count": null,
   "metadata": {
    "collapsed": true
   },
   "outputs": [],
   "source": []
  }
 ],
 "metadata": {
  "kernelspec": {
   "display_name": "Python 3",
   "language": "python",
   "name": "python3"
  },
  "language_info": {
   "codemirror_mode": {
    "name": "ipython",
    "version": 3
   },
   "file_extension": ".py",
   "mimetype": "text/x-python",
   "name": "python",
   "nbconvert_exporter": "python",
   "pygments_lexer": "ipython3",
   "version": "3.6.1"
  }
 },
 "nbformat": 4,
 "nbformat_minor": 2
}
