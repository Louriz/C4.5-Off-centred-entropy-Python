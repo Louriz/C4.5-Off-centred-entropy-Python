{
 "cells": [
  {
   "cell_type": "code",
   "execution_count": 172,
   "metadata": {
    "collapsed": true
   },
   "outputs": [],
   "source": [
    "import math"
   ]
  },
  {
   "cell_type": "code",
   "execution_count": 173,
   "metadata": {},
   "outputs": [],
   "source": [
    "\"\"\" this is a table for testing codes during implementations\"\"\"\n",
    "table1={\n",
    "    \"result\": [\"setosa\", \"setosa\", \"setosa\", \"setosa\",\"setosa\",\"setosa\",\"setosa\",\"versicolor\",\"versicolor\",\"versicolor\",\"versicolor\",\"versicolor\",\"versicolor\",\"virginica\",\"virginica\",\"virginica\",\"virginica\",\"virginica\",\"virginica\",\"virginica\",\"virginica\"],\n",
    "    \"a1\": [\"r1\",\"r1\",\"r2\",\"r1\",\"r2\",\"r1\",\"r1\",\"r2\",\"r1\",\"r2\",\"r3\",\"r3\",\"r2\",\"r2\",\"r3\",\"r3\",\"r3\",\"r3\",\"r3\",\"r2\",\"r2\"],\n",
    "    \"a2\": [\"r3\",\"r3\",\"r3\",\"r3\",\"r3\",\"r2\",\"r2\",\"r2\",\"r1\",\"r1\",\"r2\",\"r2\",\"r2\",\"r2\",\"r2\",\"r3\",\"r2\",\"r2\",\"r2\",\"r2\",\"r2\"],\n",
    "    \"a3\": [\"r1\",\"r1\",\"r1\",\"r1\",\"r1\",\"r1\",\"r1\",\"r3\",\"r2\",\"r2\",\"r3\",\"r3\",\"r2\",\"r2\",\"r3\",\"r3\",\"r3\",\"r3\",\"r3\",\"r3\",\"r3\"],\n",
    "    \"a4\":[\"r1\",\"r1\",\"r1\",\"r1\",\"r1\",\"r1\",\"r1\",\"r2\",\"r2\",\"r2\",\"r2\",\"r2\",\"r2\",\"r2\",\"r3\",\"r3\",\"r3\",\"r3\",\"r3\",\"r2\",\"r2\"]\n",
    "}"
   ]
  },
  {
   "cell_type": "code",
   "execution_count": 174,
   "metadata": {},
   "outputs": [],
   "source": [
    "table={\n",
    "    \"result\": [\"yes\", \"no\", \"yes\", \"no\"],\n",
    "    \"arg1\": [\"left\", \"left\", \"right\", \"right\"],\n",
    "    \"arg2\": [\"down\", \"up\", \"down\", \"down\"],\n",
    "    \"arg3\": [\"no\", \"yes\", \"yes\", \"no\"]\n",
    "}"
   ]
  },
  {
   "cell_type": "code",
   "execution_count": 175,
   "metadata": {
    "collapsed": true
   },
   "outputs": [],
   "source": [
    "def freq(table, col, v): # gives the total occurence of the value v in the column col \n",
    "    \"\"\" Returns counts of variant _v_\n",
    "        in column _col_ of table _table_.\n",
    "    \"\"\"\n",
    "    return table[col].count(v)"
   ]
  },
  {
   "cell_type": "code",
   "execution_count": 176,
   "metadata": {},
   "outputs": [
    {
     "data": {
      "text/plain": [
       "2"
      ]
     },
     "execution_count": 176,
     "metadata": {},
     "output_type": "execute_result"
    }
   ],
   "source": [
    "freq(table,'arg1','left')"
   ]
  },
  {
   "cell_type": "code",
   "execution_count": 177,
   "metadata": {},
   "outputs": [],
   "source": [
    "from collections import OrderedDict\n",
    "\n",
    "\n",
    "def deldup(li):\n",
    "    \"\"\" Deletes duplicates from list _li_\n",
    "        and return new list with unique values.\n",
    "    \"\"\"\n",
    "    return list(OrderedDict.fromkeys(li))\n",
    "def is_mono(t):\n",
    "    \"\"\" Returns True if all values of _t_ are equal\n",
    "        and False otherwise.\n",
    "    \"\"\"\n",
    "    for i in t:\n",
    "        if i != t[0]:\n",
    "            return False\n",
    "    return True\n",
    "\n",
    "\n",
    "def get_indexes(table, col, v):\n",
    "    \"\"\" Returns indexes of values _v_ in column _col_\n",
    "        of _table_.\n",
    "    \"\"\"\n",
    "    li = []\n",
    "    start = 0\n",
    "    for row in table[col]:\n",
    "        if row == v:\n",
    "            index = table[col].index(row, start)\n",
    "            li.append(index)\n",
    "            start = index + 1\n",
    "    return li\n",
    "\n",
    "\n",
    "def get_values(t, col, indexes):\n",
    "    \"\"\" Returns values of _indexes_ in column _col_\n",
    "        of the table _t_.\n",
    "    \"\"\"\n",
    "    return [t[col][i] for i in range(len(t[col])) if i in indexes]\n",
    "\n",
    "\n",
    "def del_values(t, ind):\n",
    "    \"\"\" Creates the new table with values of _ind_.\n",
    "    \"\"\"\n",
    "    return {k: [v[i] for i in range(len(v)) if i in ind] for k, v in t.items()}\n",
    "\n",
    "\n",
    "def print_list_tree(tree, tab=''):\n",
    "    \"\"\" Prints list of nested lists in\n",
    "        hierarchical form.\n",
    "    \"\"\"\n",
    "    print('%s[' % tab)\n",
    "    for node in tree:\n",
    "        if isinstance(node, str):\n",
    "            print('%s  %s' % (tab, node))\n",
    "        else:\n",
    "            print_list_tree(node, tab + '  ')\n",
    "    print('%s]' % tab)\n",
    "\n",
    "\n",
    "def formalize_rules(list_rules):\n",
    "    \"\"\" Gives an list of rules where\n",
    "        facts are separeted by coma.\n",
    "        Returns string with rules in\n",
    "        convinient form (such as\n",
    "        'If' and 'Then' words, etc.).\n",
    "    \"\"\"\n",
    "    text = ''\n",
    "    for r in list_rules:\n",
    "        t = [i for i in r.split(',') if i]\n",
    "        text += 'If %s,\\n' % t[0]\n",
    "        for i in t[1:-1]:\n",
    "            text += '   %s,\\n' % i\n",
    "        text += 'Then: %s.\\n' % t[-1]\n",
    "    return text\n",
    "\n",
    "\n",
    "def get_subtables(t, col):\n",
    "    \"\"\" Returns subtables of the table _t_\n",
    "        divided by values of the column _col_.\n",
    "    \"\"\"\n",
    "    return [del_values(t, get_indexes(t, col, v)) for v in deldup(t[col])]"
   ]
  },
  {
   "cell_type": "code",
   "execution_count": 178,
   "metadata": {},
   "outputs": [],
   "source": [
    "def info(table, res_col):    \n",
    "    \"\"\" Calculates the entropy of the table _table_\n",
    "        where res_col column = _res_col_.\n",
    "        res_col is the class column ( result ( the target function))\n",
    "        this is the entropy of the whole dataset\n",
    "    \"\"\"\n",
    "    s = 0 # sum\n",
    "    for v in deldup(table[res_col]):  # return the unique values in table[res_col]\n",
    "        p = freq(table, res_col, v) / float(len(table[res_col]))\n",
    "        s += p * math.log(p, 2)\n",
    "    return -s"
   ]
  },
  {
   "cell_type": "code",
   "execution_count": 179,
   "metadata": {
    "collapsed": true
   },
   "outputs": [],
   "source": [
    "def infox(table, col, res_col):\n",
    "    \"\"\" Calculates the entropy of the table _table_\n",
    "        after dividing it on the subtables by column _col_.\n",
    "        \n",
    "        \n",
    "        it gives the entropy of each attributes \n",
    "    \"\"\"\n",
    "    s = 0 # sum\n",
    "    for subt in get_subtables(table, col):\n",
    "        s += (float(len(subt[col])) / len(table[col])) * info(subt, res_col)\n",
    "    return s"
   ]
  },
  {
   "cell_type": "code",
   "execution_count": 180,
   "metadata": {
    "collapsed": true
   },
   "outputs": [],
   "source": [
    "def gain(table, x, res_col):\n",
    "    \"\"\" The criterion for selecting attributes for splitting.\n",
    "    \"\"\"\n",
    "    return info(table, res_col) - infox(table, x, res_col)"
   ]
  },
  {
   "cell_type": "code",
   "execution_count": 181,
   "metadata": {
    "collapsed": true
   },
   "outputs": [],
   "source": [
    "def mine_c45(table, result):\n",
    "    \"\"\" An entry point for C45 algorithm.\n",
    "        _table_ - a dict representing data table in the following format:\n",
    "        {\n",
    "            \"<column name>': [<column values>],\n",
    "            \"<column name>': [<column values>],\n",
    "            ...\n",
    "        }\n",
    "        _result_: a string representing a name of column indicating a result.\n",
    "    \"\"\"\n",
    "    col = max([(k, gain(table, k, result)) for k in table.keys() if k != result],\n",
    "              key=lambda x: x[1])[0]  #   col include the attribues with the highest IG \n",
    "    tree = []\n",
    "    for subt in get_subtables(table, col):\n",
    "        v = subt[col][0]   # v includes the modality of col in subt\n",
    "        if is_mono(subt[result]):\n",
    "            tree.append(['%s=%s' % (col, v),\n",
    "                         '%s=%s' % (result, subt[result][0])])\n",
    "        else:\n",
    "            del subt[col]\n",
    "            tree.append(['%s=%s' % (col, v)] + mine_c45(subt, result))\n",
    "    return tree\n",
    "\n",
    "def tree_to_rules(tree):\n",
    "    return formalize_rules(__tree_to_rules(tree))\n",
    "\n",
    "\n",
    "def __tree_to_rules(tree, rule=''):\n",
    "    rules = []\n",
    "    for node in tree:\n",
    "        if isinstance(node, str):\n",
    "            rule += node + ','\n",
    "        else:\n",
    "            rules += __tree_to_rules(node, rule)\n",
    "    if rules:\n",
    "        return rules\n",
    "    return [rule]\n",
    "\n",
    "\n",
    "def validate_table(table):\n",
    "    assert isinstance(table, dict)\n",
    "    for k, v in table.items():\n",
    "        assert k\n",
    "        assert isinstance(k, str)\n",
    "        assert len(v) == len(table.values()[0])\n",
    "        for i in v: assert i"
   ]
  },
  {
   "cell_type": "code",
   "execution_count": 185,
   "metadata": {},
   "outputs": [
    {
     "ename": "TypeError",
     "evalue": "'list' object is not callable",
     "output_type": "error",
     "traceback": [
      "\u001b[1;31m---------------------------------------------------------------------------\u001b[0m",
      "\u001b[1;31mTypeError\u001b[0m                                 Traceback (most recent call last)",
      "\u001b[1;32m<ipython-input-185-af2752bf4d1e>\u001b[0m in \u001b[0;36m<module>\u001b[1;34m()\u001b[0m\n\u001b[1;32m----> 1\u001b[1;33m \u001b[0mmine_c45\u001b[0m\u001b[1;33m(\u001b[0m\u001b[0mtable\u001b[0m\u001b[1;33m,\u001b[0m\u001b[1;34m'result'\u001b[0m\u001b[1;33m)\u001b[0m\u001b[1;33m\u001b[0m\u001b[0m\n\u001b[0m",
      "\u001b[1;32m<ipython-input-181-029dffbc4db0>\u001b[0m in \u001b[0;36mmine_c45\u001b[1;34m(table, result)\u001b[0m\n\u001b[0;32m      9\u001b[0m         \u001b[0m_result_\u001b[0m\u001b[1;33m:\u001b[0m \u001b[0ma\u001b[0m \u001b[0mstring\u001b[0m \u001b[0mrepresenting\u001b[0m \u001b[0ma\u001b[0m \u001b[0mname\u001b[0m \u001b[0mof\u001b[0m \u001b[0mcolumn\u001b[0m \u001b[0mindicating\u001b[0m \u001b[0ma\u001b[0m \u001b[0mresult\u001b[0m\u001b[1;33m.\u001b[0m\u001b[1;33m\u001b[0m\u001b[0m\n\u001b[0;32m     10\u001b[0m     \"\"\"\n\u001b[1;32m---> 11\u001b[1;33m     col = max([(k, gain(table, k, result)) for k in table.keys() if k != result],\n\u001b[0m\u001b[0;32m     12\u001b[0m               key=lambda x: x[1])[0]  #   col include the attribues with the highest IG \n\u001b[0;32m     13\u001b[0m     \u001b[0mtree\u001b[0m \u001b[1;33m=\u001b[0m \u001b[1;33m[\u001b[0m\u001b[1;33m]\u001b[0m\u001b[1;33m\u001b[0m\u001b[0m\n",
      "\u001b[1;32m<ipython-input-181-029dffbc4db0>\u001b[0m in \u001b[0;36m<listcomp>\u001b[1;34m(.0)\u001b[0m\n\u001b[0;32m      9\u001b[0m         \u001b[0m_result_\u001b[0m\u001b[1;33m:\u001b[0m \u001b[0ma\u001b[0m \u001b[0mstring\u001b[0m \u001b[0mrepresenting\u001b[0m \u001b[0ma\u001b[0m \u001b[0mname\u001b[0m \u001b[0mof\u001b[0m \u001b[0mcolumn\u001b[0m \u001b[0mindicating\u001b[0m \u001b[0ma\u001b[0m \u001b[0mresult\u001b[0m\u001b[1;33m.\u001b[0m\u001b[1;33m\u001b[0m\u001b[0m\n\u001b[0;32m     10\u001b[0m     \"\"\"\n\u001b[1;32m---> 11\u001b[1;33m     col = max([(k, gain(table, k, result)) for k in table.keys() if k != result],\n\u001b[0m\u001b[0;32m     12\u001b[0m               key=lambda x: x[1])[0]  #   col include the attribues with the highest IG \n\u001b[0;32m     13\u001b[0m     \u001b[0mtree\u001b[0m \u001b[1;33m=\u001b[0m \u001b[1;33m[\u001b[0m\u001b[1;33m]\u001b[0m\u001b[1;33m\u001b[0m\u001b[0m\n",
      "\u001b[1;32m<ipython-input-180-1d78f18c3647>\u001b[0m in \u001b[0;36mgain\u001b[1;34m(table, x, res_col)\u001b[0m\n\u001b[0;32m      2\u001b[0m     \"\"\" The criterion for selecting attributes for splitting.\n\u001b[0;32m      3\u001b[0m     \"\"\"\n\u001b[1;32m----> 4\u001b[1;33m     \u001b[1;32mreturn\u001b[0m \u001b[0minfo\u001b[0m\u001b[1;33m(\u001b[0m\u001b[0mtable\u001b[0m\u001b[1;33m,\u001b[0m \u001b[0mres_col\u001b[0m\u001b[1;33m)\u001b[0m \u001b[1;33m-\u001b[0m \u001b[0minfox\u001b[0m\u001b[1;33m(\u001b[0m\u001b[0mtable\u001b[0m\u001b[1;33m,\u001b[0m \u001b[0mx\u001b[0m\u001b[1;33m,\u001b[0m \u001b[0mres_col\u001b[0m\u001b[1;33m)\u001b[0m\u001b[1;33m\u001b[0m\u001b[0m\n\u001b[0m",
      "\u001b[1;32m<ipython-input-178-dcdc709ca474>\u001b[0m in \u001b[0;36minfo\u001b[1;34m(table, res_col)\u001b[0m\n\u001b[0;32m      6\u001b[0m     \"\"\"\n\u001b[0;32m      7\u001b[0m     \u001b[0ms\u001b[0m \u001b[1;33m=\u001b[0m \u001b[1;36m0\u001b[0m \u001b[1;31m# sum\u001b[0m\u001b[1;33m\u001b[0m\u001b[0m\n\u001b[1;32m----> 8\u001b[1;33m     \u001b[1;32mfor\u001b[0m \u001b[0mv\u001b[0m \u001b[1;32min\u001b[0m \u001b[0mdeldup\u001b[0m\u001b[1;33m(\u001b[0m\u001b[0mtable\u001b[0m\u001b[1;33m[\u001b[0m\u001b[0mres_col\u001b[0m\u001b[1;33m]\u001b[0m\u001b[1;33m)\u001b[0m\u001b[1;33m:\u001b[0m  \u001b[1;31m# return the unique values in table[res_col]\u001b[0m\u001b[1;33m\u001b[0m\u001b[0m\n\u001b[0m\u001b[0;32m      9\u001b[0m         \u001b[0mp\u001b[0m \u001b[1;33m=\u001b[0m \u001b[0mfreq\u001b[0m\u001b[1;33m(\u001b[0m\u001b[0mtable\u001b[0m\u001b[1;33m,\u001b[0m \u001b[0mres_col\u001b[0m\u001b[1;33m,\u001b[0m \u001b[0mv\u001b[0m\u001b[1;33m)\u001b[0m \u001b[1;33m/\u001b[0m \u001b[0mfloat\u001b[0m\u001b[1;33m(\u001b[0m\u001b[0mlen\u001b[0m\u001b[1;33m(\u001b[0m\u001b[0mtable\u001b[0m\u001b[1;33m[\u001b[0m\u001b[0mres_col\u001b[0m\u001b[1;33m]\u001b[0m\u001b[1;33m)\u001b[0m\u001b[1;33m)\u001b[0m\u001b[1;33m\u001b[0m\u001b[0m\n\u001b[0;32m     10\u001b[0m         \u001b[0ms\u001b[0m \u001b[1;33m+=\u001b[0m \u001b[0mp\u001b[0m \u001b[1;33m*\u001b[0m \u001b[0mmath\u001b[0m\u001b[1;33m.\u001b[0m\u001b[0mlog\u001b[0m\u001b[1;33m(\u001b[0m\u001b[0mp\u001b[0m\u001b[1;33m,\u001b[0m \u001b[1;36m2\u001b[0m\u001b[1;33m)\u001b[0m\u001b[1;33m\u001b[0m\u001b[0m\n",
      "\u001b[1;32m<ipython-input-177-165e6fe607ea>\u001b[0m in \u001b[0;36mdeldup\u001b[1;34m(li)\u001b[0m\n\u001b[0;32m      6\u001b[0m         \u001b[1;32mand\u001b[0m \u001b[1;32mreturn\u001b[0m \u001b[0mnew\u001b[0m \u001b[0mlist\u001b[0m \u001b[1;32mwith\u001b[0m \u001b[0munique\u001b[0m \u001b[0mvalues\u001b[0m\u001b[1;33m.\u001b[0m\u001b[1;33m\u001b[0m\u001b[0m\n\u001b[0;32m      7\u001b[0m     \"\"\"\n\u001b[1;32m----> 8\u001b[1;33m     \u001b[1;32mreturn\u001b[0m \u001b[0mlist\u001b[0m\u001b[1;33m(\u001b[0m\u001b[0mOrderedDict\u001b[0m\u001b[1;33m.\u001b[0m\u001b[0mfromkeys\u001b[0m\u001b[1;33m(\u001b[0m\u001b[0mli\u001b[0m\u001b[1;33m)\u001b[0m\u001b[1;33m)\u001b[0m\u001b[1;33m\u001b[0m\u001b[0m\n\u001b[0m\u001b[0;32m      9\u001b[0m \u001b[1;32mdef\u001b[0m \u001b[0mis_mono\u001b[0m\u001b[1;33m(\u001b[0m\u001b[0mt\u001b[0m\u001b[1;33m)\u001b[0m\u001b[1;33m:\u001b[0m\u001b[1;33m\u001b[0m\u001b[0m\n\u001b[0;32m     10\u001b[0m     \"\"\" Returns True if all values of _t_ are equal\n",
      "\u001b[1;31mTypeError\u001b[0m: 'list' object is not callable"
     ]
    }
   ],
   "source": [
    "mine_c45(table,'result')"
   ]
  },
  {
   "cell_type": "code",
   "execution_count": 171,
   "metadata": {},
   "outputs": [
    {
     "ename": "TypeError",
     "evalue": "'list' object is not callable",
     "output_type": "error",
     "traceback": [
      "\u001b[1;31m---------------------------------------------------------------------------\u001b[0m",
      "\u001b[1;31mTypeError\u001b[0m                                 Traceback (most recent call last)",
      "\u001b[1;32m<ipython-input-171-7936a84bb00a>\u001b[0m in \u001b[0;36m<module>\u001b[1;34m()\u001b[0m\n\u001b[1;32m----> 1\u001b[1;33m \u001b[0mtree_to_rules\u001b[0m\u001b[1;33m(\u001b[0m\u001b[0mmine_c45\u001b[0m\u001b[1;33m(\u001b[0m\u001b[0mtable\u001b[0m\u001b[1;33m,\u001b[0m\u001b[1;34m'result'\u001b[0m\u001b[1;33m)\u001b[0m\u001b[1;33m)\u001b[0m\u001b[1;33m\u001b[0m\u001b[0m\n\u001b[0m",
      "\u001b[1;32m<ipython-input-169-029dffbc4db0>\u001b[0m in \u001b[0;36mmine_c45\u001b[1;34m(table, result)\u001b[0m\n\u001b[0;32m      9\u001b[0m         \u001b[0m_result_\u001b[0m\u001b[1;33m:\u001b[0m \u001b[0ma\u001b[0m \u001b[0mstring\u001b[0m \u001b[0mrepresenting\u001b[0m \u001b[0ma\u001b[0m \u001b[0mname\u001b[0m \u001b[0mof\u001b[0m \u001b[0mcolumn\u001b[0m \u001b[0mindicating\u001b[0m \u001b[0ma\u001b[0m \u001b[0mresult\u001b[0m\u001b[1;33m.\u001b[0m\u001b[1;33m\u001b[0m\u001b[0m\n\u001b[0;32m     10\u001b[0m     \"\"\"\n\u001b[1;32m---> 11\u001b[1;33m     col = max([(k, gain(table, k, result)) for k in table.keys() if k != result],\n\u001b[0m\u001b[0;32m     12\u001b[0m               key=lambda x: x[1])[0]  #   col include the attribues with the highest IG \n\u001b[0;32m     13\u001b[0m     \u001b[0mtree\u001b[0m \u001b[1;33m=\u001b[0m \u001b[1;33m[\u001b[0m\u001b[1;33m]\u001b[0m\u001b[1;33m\u001b[0m\u001b[0m\n",
      "\u001b[1;32m<ipython-input-169-029dffbc4db0>\u001b[0m in \u001b[0;36m<listcomp>\u001b[1;34m(.0)\u001b[0m\n\u001b[0;32m      9\u001b[0m         \u001b[0m_result_\u001b[0m\u001b[1;33m:\u001b[0m \u001b[0ma\u001b[0m \u001b[0mstring\u001b[0m \u001b[0mrepresenting\u001b[0m \u001b[0ma\u001b[0m \u001b[0mname\u001b[0m \u001b[0mof\u001b[0m \u001b[0mcolumn\u001b[0m \u001b[0mindicating\u001b[0m \u001b[0ma\u001b[0m \u001b[0mresult\u001b[0m\u001b[1;33m.\u001b[0m\u001b[1;33m\u001b[0m\u001b[0m\n\u001b[0;32m     10\u001b[0m     \"\"\"\n\u001b[1;32m---> 11\u001b[1;33m     col = max([(k, gain(table, k, result)) for k in table.keys() if k != result],\n\u001b[0m\u001b[0;32m     12\u001b[0m               key=lambda x: x[1])[0]  #   col include the attribues with the highest IG \n\u001b[0;32m     13\u001b[0m     \u001b[0mtree\u001b[0m \u001b[1;33m=\u001b[0m \u001b[1;33m[\u001b[0m\u001b[1;33m]\u001b[0m\u001b[1;33m\u001b[0m\u001b[0m\n",
      "\u001b[1;32m<ipython-input-165-1d78f18c3647>\u001b[0m in \u001b[0;36mgain\u001b[1;34m(table, x, res_col)\u001b[0m\n\u001b[0;32m      2\u001b[0m     \"\"\" The criterion for selecting attributes for splitting.\n\u001b[0;32m      3\u001b[0m     \"\"\"\n\u001b[1;32m----> 4\u001b[1;33m     \u001b[1;32mreturn\u001b[0m \u001b[0minfo\u001b[0m\u001b[1;33m(\u001b[0m\u001b[0mtable\u001b[0m\u001b[1;33m,\u001b[0m \u001b[0mres_col\u001b[0m\u001b[1;33m)\u001b[0m \u001b[1;33m-\u001b[0m \u001b[0minfox\u001b[0m\u001b[1;33m(\u001b[0m\u001b[0mtable\u001b[0m\u001b[1;33m,\u001b[0m \u001b[0mx\u001b[0m\u001b[1;33m,\u001b[0m \u001b[0mres_col\u001b[0m\u001b[1;33m)\u001b[0m\u001b[1;33m\u001b[0m\u001b[0m\n\u001b[0m",
      "\u001b[1;32m<ipython-input-162-dcdc709ca474>\u001b[0m in \u001b[0;36minfo\u001b[1;34m(table, res_col)\u001b[0m\n\u001b[0;32m      6\u001b[0m     \"\"\"\n\u001b[0;32m      7\u001b[0m     \u001b[0ms\u001b[0m \u001b[1;33m=\u001b[0m \u001b[1;36m0\u001b[0m \u001b[1;31m# sum\u001b[0m\u001b[1;33m\u001b[0m\u001b[0m\n\u001b[1;32m----> 8\u001b[1;33m     \u001b[1;32mfor\u001b[0m \u001b[0mv\u001b[0m \u001b[1;32min\u001b[0m \u001b[0mdeldup\u001b[0m\u001b[1;33m(\u001b[0m\u001b[0mtable\u001b[0m\u001b[1;33m[\u001b[0m\u001b[0mres_col\u001b[0m\u001b[1;33m]\u001b[0m\u001b[1;33m)\u001b[0m\u001b[1;33m:\u001b[0m  \u001b[1;31m# return the unique values in table[res_col]\u001b[0m\u001b[1;33m\u001b[0m\u001b[0m\n\u001b[0m\u001b[0;32m      9\u001b[0m         \u001b[0mp\u001b[0m \u001b[1;33m=\u001b[0m \u001b[0mfreq\u001b[0m\u001b[1;33m(\u001b[0m\u001b[0mtable\u001b[0m\u001b[1;33m,\u001b[0m \u001b[0mres_col\u001b[0m\u001b[1;33m,\u001b[0m \u001b[0mv\u001b[0m\u001b[1;33m)\u001b[0m \u001b[1;33m/\u001b[0m \u001b[0mfloat\u001b[0m\u001b[1;33m(\u001b[0m\u001b[0mlen\u001b[0m\u001b[1;33m(\u001b[0m\u001b[0mtable\u001b[0m\u001b[1;33m[\u001b[0m\u001b[0mres_col\u001b[0m\u001b[1;33m]\u001b[0m\u001b[1;33m)\u001b[0m\u001b[1;33m)\u001b[0m\u001b[1;33m\u001b[0m\u001b[0m\n\u001b[0;32m     10\u001b[0m         \u001b[0ms\u001b[0m \u001b[1;33m+=\u001b[0m \u001b[0mp\u001b[0m \u001b[1;33m*\u001b[0m \u001b[0mmath\u001b[0m\u001b[1;33m.\u001b[0m\u001b[0mlog\u001b[0m\u001b[1;33m(\u001b[0m\u001b[0mp\u001b[0m\u001b[1;33m,\u001b[0m \u001b[1;36m2\u001b[0m\u001b[1;33m)\u001b[0m\u001b[1;33m\u001b[0m\u001b[0m\n",
      "\u001b[1;32m<ipython-input-161-165e6fe607ea>\u001b[0m in \u001b[0;36mdeldup\u001b[1;34m(li)\u001b[0m\n\u001b[0;32m      6\u001b[0m         \u001b[1;32mand\u001b[0m \u001b[1;32mreturn\u001b[0m \u001b[0mnew\u001b[0m \u001b[0mlist\u001b[0m \u001b[1;32mwith\u001b[0m \u001b[0munique\u001b[0m \u001b[0mvalues\u001b[0m\u001b[1;33m.\u001b[0m\u001b[1;33m\u001b[0m\u001b[0m\n\u001b[0;32m      7\u001b[0m     \"\"\"\n\u001b[1;32m----> 8\u001b[1;33m     \u001b[1;32mreturn\u001b[0m \u001b[0mlist\u001b[0m\u001b[1;33m(\u001b[0m\u001b[0mOrderedDict\u001b[0m\u001b[1;33m.\u001b[0m\u001b[0mfromkeys\u001b[0m\u001b[1;33m(\u001b[0m\u001b[0mli\u001b[0m\u001b[1;33m)\u001b[0m\u001b[1;33m)\u001b[0m\u001b[1;33m\u001b[0m\u001b[0m\n\u001b[0m\u001b[0;32m      9\u001b[0m \u001b[1;32mdef\u001b[0m \u001b[0mis_mono\u001b[0m\u001b[1;33m(\u001b[0m\u001b[0mt\u001b[0m\u001b[1;33m)\u001b[0m\u001b[1;33m:\u001b[0m\u001b[1;33m\u001b[0m\u001b[0m\n\u001b[0;32m     10\u001b[0m     \"\"\" Returns True if all values of _t_ are equal\n",
      "\u001b[1;31mTypeError\u001b[0m: 'list' object is not callable"
     ]
    }
   ],
   "source": [
    "tree_to_rules(mine_c45(table,'result'))"
   ]
  },
  {
   "cell_type": "code",
   "execution_count": null,
   "metadata": {
    "collapsed": true
   },
   "outputs": [],
   "source": []
  },
  {
   "cell_type": "code",
   "execution_count": null,
   "metadata": {
    "collapsed": true
   },
   "outputs": [],
   "source": []
  }
 ],
 "metadata": {
  "kernelspec": {
   "display_name": "Python 3",
   "language": "python",
   "name": "python3"
  },
  "language_info": {
   "codemirror_mode": {
    "name": "ipython",
    "version": 3
   },
   "file_extension": ".py",
   "mimetype": "text/x-python",
   "name": "python",
   "nbconvert_exporter": "python",
   "pygments_lexer": "ipython3",
   "version": "3.6.1"
  }
 },
 "nbformat": 4,
 "nbformat_minor": 2
}
